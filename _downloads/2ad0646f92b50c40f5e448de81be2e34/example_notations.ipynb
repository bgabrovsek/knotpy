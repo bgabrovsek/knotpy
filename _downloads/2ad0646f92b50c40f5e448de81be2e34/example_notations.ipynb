{
  "cells": [
    {
      "cell_type": "markdown",
      "metadata": {},
      "source": [
        "\n# Parsing knots\n\nTest various knot/graph notations.\n"
      ]
    },
    {
      "cell_type": "code",
      "execution_count": null,
      "metadata": {
        "collapsed": false
      },
      "outputs": [],
      "source": [
        "import knotpy as kp\nfrom knotpy.catalog.example import example_spatial_graph\n\n\nprint(\"PD notation\\n\")\n\n# Mathematica format\ntext = \"X[1,9,2,8], X[3,10,4,11], X[5,3,6,2], X[7,1,8,12], X[9,4,10,5], X[11,7,12,6]\"\nprint(\"In:\", text)\nprint(\"Out:\", k := kp.from_pd_notation(text))\nprint(\"Out:\", kp.to_pd_notation(k))\n\nprint()\n\n# KnotInfo notation\ntext = \"[[4,2,5,1],[8,6,1,5],[6,3,7,4],[2,7,3,8]]\"\nprint(\"In:\", text)\nprint(\"Out:\", k := kp.from_pd_notation(text))\nprint(\"Out:\", kp.to_pd_notation(k))\n\nprint()\n\n# Topoly notation\ntext = \"V[12,14,5],V[14,13,2],X[11,10,13,12],X[7,11,5,6],X[10,7,6,2]\"\nprint(\"In:\", text)\nprint(\"Out:\", k := kp.from_pd_notation(text))\nprint(\"Out:\", kp.to_pd_notation(k))\n\nprint(\"\\nEM notation\\n\")\n\ntext = \"b0e1,a0c0d0,b1d1,b2c1e0,d2a1\"\nprint(\"In:\", text)\nprint(\"Out:\", k := kp.from_condensed_em_notation(text))\nprint(\"Out:\", kp.to_condensed_em_notation(k))\n\nprint(\"\\nKnot notation\\n\")\n\nk = example_spatial_graph()\nprint(\"In:\", k)\nprint(\"Out:\", text := kp.to_knotpy_notation(k))\nprint(\"Out:\", kp.to_knotpy_notation(k, attributes=False))\n# print(\"Out:\", kp.from_knot_notation(text))"
      ]
    }
  ],
  "metadata": {
    "kernelspec": {
      "display_name": "Python 3",
      "language": "python",
      "name": "python3"
    },
    "language_info": {
      "codemirror_mode": {
        "name": "ipython",
        "version": 3
      },
      "file_extension": ".py",
      "mimetype": "text/x-python",
      "name": "python",
      "nbconvert_exporter": "python",
      "pygments_lexer": "ipython3",
      "version": "3.12.10"
    }
  },
  "nbformat": 4,
  "nbformat_minor": 0
}